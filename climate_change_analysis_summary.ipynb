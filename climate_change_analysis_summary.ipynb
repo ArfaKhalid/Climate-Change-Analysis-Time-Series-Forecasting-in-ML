{
  "cells": [
    {
      "cell_type": "markdown",
      "metadata": {},
      "source": [
        "### Project Summary\n",
        "\n",
        "This cell contains a project summary in HTML format. It describes a Climate Change Analysis project and includes details about the project's objectives and the author's role."
      ]
    },
    {
      "cell_type": "code",
      "execution_count": null,
      "metadata": {},
      "outputs": [],
      "source": [
        "from IPython.display import HTML\n",
        "\n",
        "project_summary = \"\"\"\n",
        "<article class=\"post featured\">\n",
        "    <header class=\"major\">\n",
        "        <h2><a href=\"#\">Climate Change Analysis<br /></a></h2>\n",
        "        <p>In this project, I leveraged my skills in data analysis and utilized the Python programming language, particularly the Seaborn library, to conduct an in-depth analysis of NASA's 30 Years datasets for climate change. By applying data visualization and predictive modeling techniques, I aimed to understand and predict temperature trends in the upcoming years.</p>\n",
        "        <p>My role in this project involved:</p>\n",
        "        <ul>\n",
        "            <li>Collecting and cleaning climate data from NASA sources</li>\n",
        "            <li>Creating compelling visualizations to convey insights from the data</li>\n",
        "            <li>Building regression models to predict future temperature changes</li>\n",
        "        </ul>\n",
        "    <a href=\"#\" class=\"image main\"><img src=\"images/climate_change_analysis.png\" alt=\"\" /></a>\n",
        "    <ul class=\"actions special\">\n",
        "        <li><a href=\"https://github.com/ArfaKhalid/Machine-Learning-Models/blob/main/Climate_change_anlaysis.ipynb\" class=\"button large\">View Project</a></li>\n",
        "    </ul>\n",
        "</article>\n",
        "\"\"\"\n",
        "\n",
        "HTML(project_summary)\n"
      ]
    }
  ],
  "metadata": {
    "language_info": {
      "name": "python"
    }
  },
  "nbformat": 4,
  "nbformat_minor": 2
}


